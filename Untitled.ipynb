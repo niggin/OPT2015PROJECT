{
 "cells": [
  {
   "cell_type": "code",
   "execution_count": 71,
   "metadata": {
    "collapsed": true
   },
   "outputs": [],
   "source": [
    "def generate_data(n=10, seed=0):\n",
    "    #n is the amount of peers in network\n",
    "    #bandwidth is matrix of downloading speed from computer i to computer j\n",
    "    #data is in mbps\n",
    "    import numpy as np\n",
    "    \n",
    "    if seed:\n",
    "        np.random.seed(seed)\n",
    "    \n",
    "    C = 1.0\n",
    "    \n",
    "    pos = np.random.randn(n, 2)\n",
    "    bandwidth = np.zeros((n, n))\n",
    "    for i in xrange(n):\n",
    "        for j in xrange(n):\n",
    "            if i != j:\n",
    "                bandwidth[i, j] = C / np.linalg.norm(pos[i] - pos[j]) #* (0.1 + np.random.random_sample())\n",
    "                \n",
    "    bound = np.max(bandwidth)\n",
    "    bandwidth = bandwidth / bound * 0.9\n",
    "    connection_types = [10.0, 50.0, 100.0]\n",
    "    upload_speed = np.zeros(n)\n",
    "    download_speed = np.zeros(n)\n",
    "    for i in xrange(n):\n",
    "        speed = connection_types[np.random.randint(0, len(connection_types))]\n",
    "        bandwidth[:, i] *= speed\n",
    "        upload_speed[i] = speed\n",
    "        download_speed[i] = speed\n",
    "    return np.around(bandwidth, 2), np.around(download_speed, 2), np.around(upload_speed)"
   ]
  },
  {
   "cell_type": "code",
   "execution_count": 2,
   "metadata": {
    "collapsed": false
   },
   "outputs": [],
   "source": [
    "def prepare_data(bandwidth, download_speed, upload_speed, file_size, time_step):\n",
    "    import numpy as np\n",
    "    file_piece = file_size / time_step\n",
    "    if np.any(np.amax(bandwidth, axis=0) * time_step < 1):\n",
    "        raise Exception(\"There are peers that has a connection speed slower than accepted; increase the time step\")\n",
    "    if 1 > time_step * np.min(np.eye(len(download_speed)) * 1e6 + bandwidth):\n",
    "        print Exception(\"Timestep is too small: there are connections that can't pass piece within the time step\")\n",
    "        \n",
    "    return (bandwidth / time_step).astype(int), \\\n",
    "            (download_speed / time_step).astype(int), \\\n",
    "            (upload_speed / time_step).astype(int)"
   ]
  },
  {
   "cell_type": "code",
   "execution_count": 3,
   "metadata": {
    "collapsed": false
   },
   "outputs": [],
   "source": [
    "N = 6\n",
    "bandwidth, download_speed, upload_speed = generate_data(N)\n",
    "file_size = 2.0\n",
    "time_step = 1.0\n",
    "ft_bandwidth, ft_download_speed, ft_upload_speed = prepare_data(bandwidth, download_speed, upload_speed, file_size, time_step)"
   ]
  },
  {
   "cell_type": "code",
   "execution_count": 4,
   "metadata": {
    "collapsed": false
   },
   "outputs": [
    {
     "name": "stdout",
     "output_type": "stream",
     "text": [
      "[[ 0  9  8  7 13  2]\n",
      " [ 9  0  9  6 19  2]\n",
      " [ 1  1  0  6 14  4]\n",
      " [ 1  1  6  0  5  1]\n",
      " [ 2  3 14  5  0  7]\n",
      " [ 2  2 22  6 35  0]] [10 10 50 50 50 10] [10 10 50 50 50 10]\n"
     ]
    }
   ],
   "source": [
    "print ft_bandwidth, ft_download_speed, ft_upload_speed"
   ]
  },
  {
   "cell_type": "code",
   "execution_count": 70,
   "metadata": {
    "collapsed": false,
    "scrolled": true
   },
   "outputs": [
    {
     "name": "stdout",
     "output_type": "stream",
     "text": [
      "62\n"
     ]
    },
    {
     "data": {
      "text/plain": [
       "inf"
      ]
     },
     "execution_count": 70,
     "metadata": {},
     "output_type": "execute_result"
    }
   ],
   "source": [
    "import cvxpy\n",
    "\n",
    "T = 5\n",
    "K = int(file_size / time_step)\n",
    "x = list()\n",
    "y = list()\n",
    "xi = cvxpy.Variable()\n",
    "for i in range(N):\n",
    "    x.append(cvxpy.Bool(K, T))\n",
    "    y.append(list())\n",
    "    for j in range(N):\n",
    "        y[i].append(cvxpy.Int(K, T))\n",
    "\n",
    "constraints = []\n",
    "for i in range(N):\n",
    "    download = 0\n",
    "    upload = 0\n",
    "    constraints.append(-cvxpy.sum_entries(x[i]) <= xi)\n",
    "    for j in range(N):\n",
    "        constraints.append(cvxpy.sum_entries(y[i][j], axis=0) <= bandwidth[i, j])\n",
    "        download += cvxpy.sum_entries(y[j][i], axis=0)\n",
    "        upload += cvxpy.sum_entries(y[i][j], axis=0)\n",
    "        #constraints.append(y[i][j] <= x[i])\n",
    "    #constraints.append(download <= download_speed[i])\n",
    "    #constraints.append(upload <= upload_speed[i])\n",
    "    for t in range(T):\n",
    "        for tp in range(t + 1, T):\n",
    "            for k in range(K):\n",
    "                1#constraints.append(x[i][k, tp] >= x[i][k, t])\n",
    "for t in range(T):\n",
    "    for k in range(K):\n",
    "        1#constraints.append(x[0][k, t] >= 0.5)\n",
    "    for i in range(1, N):\n",
    "        for k in range(K):\n",
    "            1#constraints.append(x[i][k, 0] <= 0)\n",
    "        \n",
    "for i in range(1, N):\n",
    "    for k in range(K):\n",
    "        to_sum = 0\n",
    "        for j in range(N):\n",
    "            for t in range(T):\n",
    "                to_sum += y[j][i][k, t]\n",
    "                #constraints.append(y[j][i][k, t] == 1.0)\n",
    "        constraints.append(to_sum <= 1)\n",
    "        constraints.append(to_sum >= 1)\n",
    "\n",
    "#constraints.append(cvxpy.sum_entries(y[0][1][0, :]) == 1.0)        \n",
    "\n",
    "\"\"\"for k in range(K):\n",
    "    to_sum = 0\n",
    "    for j in range(N):\n",
    "        for t in range(T):\n",
    "            to_sum += y[j][1][k, t]\n",
    "    constraints.append(to_sum >= 0.1)\"\"\"\n",
    "\n",
    "        \n",
    "print len(constraints)\n",
    "\n",
    "prob = cvxpy.Problem(cvxpy.Minimize(xi), constraints)\n",
    "\n",
    "prob.solve()"
   ]
  },
  {
   "cell_type": "code",
   "execution_count": 69,
   "metadata": {
    "collapsed": false,
    "scrolled": false
   },
   "outputs": [
    {
     "name": "stdout",
     "output_type": "stream",
     "text": [
      "\n",
      "x [[ 1.  1.  1.  1.  1.]\n",
      " [ 1.  1.  1.  1.  1.]] \n",
      "\n",
      "y [[ 0.  0.  0.  0.  0.]\n",
      " [ 0.  0.  0.  0.  0.]]\n",
      "y [[ 1.  1.  1.  1.  1.]\n",
      " [ 1.  1.  1.  1.  1.]]\n",
      "y [[ 1.  1.  1.  1.  1.]\n",
      " [ 1.  1.  1.  1.  1.]]\n",
      "y [[ 1.  1.  1.  1.  1.]\n",
      " [ 1.  1.  1.  1.  1.]]\n",
      "y [[ 1.  1.  1.  1.  1.]\n",
      " [ 1.  1.  1.  1.  1.]]\n",
      "y [[ 0.  0.  0.  0.  0.]\n",
      " [ 0.  0.  0.  0.  0.]]\n",
      "\n",
      "x [[ 0.  0.  0.  0.  0.]\n",
      " [ 0.  0.  0.  0.  0.]] \n",
      "\n",
      "y [[ 0.  0.  0.  0.  0.]\n",
      " [ 0.  0.  0.  0.  0.]]\n",
      "y [[ 0.  0.  0.  0.  0.]\n",
      " [ 0.  0.  0.  0.  0.]]\n",
      "y [[ 0.  0.  0.  0.  0.]\n",
      " [ 0.  0.  0.  0.  0.]]\n",
      "y [[-270804. -270804. -270804. -270804. -270804.]\n",
      " [-270804. -270804. -270804. -270804. -270804.]]\n",
      "y [[-478512. -478512. -478512. -478512. -478512.]\n",
      " [-478512. -478512. -478512. -478512. -478512.]]\n",
      "y [[-288865. -288865. -288865. -288865. -288865.]\n",
      " [-288865. -288865. -288865. -288865. -288865.]]\n",
      "\n",
      "x [[-2848661.    16494.    16494.    16494.    16494.]\n",
      " [ 1266359.  -554416.  -554416.  -554416.  -554416.]] \n",
      "\n",
      "y [[-288861. -288861. -288861. -288861. -288861.]\n",
      " [-288861. -288861. -288861. -288861. -288861.]]\n",
      "y [[-288851. -288851. -288851. -288851. -288851.]\n",
      " [-288851. -288851. -288851. -288851. -288851.]]\n",
      "y [[-270803. -270803. -270803. -270803. -270803.]\n",
      " [-270803. -270803. -270803. -270803. -270803.]]\n",
      "y [[-478514. -478514. -478514. -478514. -478514.]\n",
      " [-478514. -478514. -478514. -478514. -478514.]]\n",
      "y [[-288864. -288864. -288864. -288864. -288864.]\n",
      " [-288864. -288864. -288864. -288864. -288864.]]\n",
      "y [[  16489.   16489.   16489.   16489.   16489.]\n",
      " [-554420. -554420. -554420. -554420. -554420.]]\n",
      "\n",
      "x [[-288861. -288861. -288861. -288861. -288861.]\n",
      " [-288861. -288861. -288861. -288861. -288861.]] \n",
      "\n",
      "y [[-288853. -288853. -288853. -288853. -288853.]\n",
      " [-288853. -288853. -288853. -288853. -288853.]]\n",
      "y [[-270803. -270803. -270803. -270803. -270803.]\n",
      " [-270803. -270803. -270803. -270803. -270803.]]\n",
      "y [[-478514. -478514. -478514. -478514. -478514.]\n",
      " [-478514. -478514. -478514. -478514. -478514.]]\n",
      "y [[-288865. -288865. -288865. -288865. -288865.]\n",
      " [-288865. -288865. -288865. -288865. -288865.]]\n",
      "y [[  16492.   16492.   16492.   16492.   16492.]\n",
      " [-554417. -554417. -554417. -554417. -554417.]]\n",
      "y [[-288864. -288864. -288864. -288864. -288864.]\n",
      " [-288864. -288864. -288864. -288864. -288864.]]\n",
      "\n",
      "x [[-288856. -288856. -288856. -288856. -288856.]\n",
      " [-288856. -288856. -288856. -288856. -288856.]] \n",
      "\n",
      "y [[-270804. -270804. -270804. -270804. -270804.]\n",
      " [-270804. -270804. -270804. -270804. -270804.]]\n",
      "y [[-478514. -478514. -478514. -478514. -478514.]\n",
      " [-478514. -478514. -478514. -478514. -478514.]]\n",
      "y [[-288864. -288864. -288864. -288864. -288864.]\n",
      " [-288864. -288864. -288864. -288864. -288864.]]\n",
      "y [[  16496.   16496.   16496.   16496.   16496.]\n",
      " [-554414. -554414. -554414. -554414. -554414.]]\n",
      "y [[-288861. -288861. -288861. -288861. -288861.]\n",
      " [-288861. -288861. -288861. -288861. -288861.]]\n",
      "y [[-288859. -288859. -288859. -288859. -288859.]\n",
      " [-288859. -288859. -288859. -288859. -288859.]]\n",
      "\n",
      "x [[-270801. -270801. -270801. -270801. -270801.]\n",
      " [-270801. -270801. -270801. -270801. -270801.]] \n",
      "\n",
      "y [[-478514. -478514. -478514. -478514. -478514.]\n",
      " [-478514. -478514. -478514. -478514. -478514.]]\n",
      "y [[-288864. -288864. -288864. -288864. -288864.]\n",
      " [-288864. -288864. -288864. -288864. -288864.]]\n",
      "y [[  16500.   16500.   16500.   16500.   16500.]\n",
      " [-554410. -554410. -554410. -554410. -554410.]]\n",
      "y [[-288861. -288861. -288861. -288861. -288861.]\n",
      " [-288861. -288861. -288861. -288861. -288861.]]\n",
      "y [[-288844. -288844. -288844. -288844. -288844.]\n",
      " [-288844. -288844. -288844. -288844. -288844.]]\n",
      "y [[-270805. -270805. -270805. -270805. -270805.]\n",
      " [-270805. -270805. -270805. -270805. -270805.]]\n"
     ]
    }
   ],
   "source": [
    "import numpy as np\n",
    "for i in range(N):\n",
    "    print '\\nx', np.around(x[i].value), '\\n'\n",
    "    for j in range(N):\n",
    "        print 'y', np.around(y[i][j].value)"
   ]
  },
  {
   "cell_type": "code",
   "execution_count": 58,
   "metadata": {
    "collapsed": false
   },
   "outputs": [
    {
     "ename": "AttributeError",
     "evalue": "'NoneType' object has no attribute 'rint'",
     "output_type": "error",
     "traceback": [
      "\u001b[1;31m---------------------------------------------------------------------------\u001b[0m",
      "\u001b[1;31mAttributeError\u001b[0m                            Traceback (most recent call last)",
      "\u001b[1;32m<ipython-input-58-e3a7d37def16>\u001b[0m in \u001b[0;36m<module>\u001b[1;34m()\u001b[0m\n\u001b[0;32m      1\u001b[0m \u001b[1;32mfor\u001b[0m \u001b[0mj\u001b[0m \u001b[1;32min\u001b[0m \u001b[0mrange\u001b[0m\u001b[1;33m(\u001b[0m\u001b[0mN\u001b[0m\u001b[1;33m)\u001b[0m\u001b[1;33m:\u001b[0m\u001b[1;33m\u001b[0m\u001b[0m\n\u001b[1;32m----> 2\u001b[1;33m     \u001b[1;32mprint\u001b[0m \u001b[0mnp\u001b[0m\u001b[1;33m.\u001b[0m\u001b[0maround\u001b[0m\u001b[1;33m(\u001b[0m\u001b[0my\u001b[0m\u001b[1;33m[\u001b[0m\u001b[1;36m0\u001b[0m\u001b[1;33m]\u001b[0m\u001b[1;33m[\u001b[0m\u001b[0mj\u001b[0m\u001b[1;33m]\u001b[0m\u001b[1;33m.\u001b[0m\u001b[0mvalue\u001b[0m\u001b[1;33m)\u001b[0m\u001b[1;33m\u001b[0m\u001b[0m\n\u001b[0m",
      "\u001b[1;32mC:\\Users\\rubik\\Anaconda\\lib\\site-packages\\numpy\\core\\fromnumeric.pyc\u001b[0m in \u001b[0;36maround\u001b[1;34m(a, decimals, out)\u001b[0m\n\u001b[0;32m   2627\u001b[0m         \u001b[0mround\u001b[0m \u001b[1;33m=\u001b[0m \u001b[0ma\u001b[0m\u001b[1;33m.\u001b[0m\u001b[0mround\u001b[0m\u001b[1;33m\u001b[0m\u001b[0m\n\u001b[0;32m   2628\u001b[0m     \u001b[1;32mexcept\u001b[0m \u001b[0mAttributeError\u001b[0m\u001b[1;33m:\u001b[0m\u001b[1;33m\u001b[0m\u001b[0m\n\u001b[1;32m-> 2629\u001b[1;33m         \u001b[1;32mreturn\u001b[0m \u001b[0m_wrapit\u001b[0m\u001b[1;33m(\u001b[0m\u001b[0ma\u001b[0m\u001b[1;33m,\u001b[0m \u001b[1;34m'round'\u001b[0m\u001b[1;33m,\u001b[0m \u001b[0mdecimals\u001b[0m\u001b[1;33m,\u001b[0m \u001b[0mout\u001b[0m\u001b[1;33m)\u001b[0m\u001b[1;33m\u001b[0m\u001b[0m\n\u001b[0m\u001b[0;32m   2630\u001b[0m     \u001b[1;32mreturn\u001b[0m \u001b[0mround\u001b[0m\u001b[1;33m(\u001b[0m\u001b[0mdecimals\u001b[0m\u001b[1;33m,\u001b[0m \u001b[0mout\u001b[0m\u001b[1;33m)\u001b[0m\u001b[1;33m\u001b[0m\u001b[0m\n\u001b[0;32m   2631\u001b[0m \u001b[1;33m\u001b[0m\u001b[0m\n",
      "\u001b[1;32mC:\\Users\\rubik\\Anaconda\\lib\\site-packages\\numpy\\core\\fromnumeric.pyc\u001b[0m in \u001b[0;36m_wrapit\u001b[1;34m(obj, method, *args, **kwds)\u001b[0m\n\u001b[0;32m     43\u001b[0m     \u001b[1;32mexcept\u001b[0m \u001b[0mAttributeError\u001b[0m\u001b[1;33m:\u001b[0m\u001b[1;33m\u001b[0m\u001b[0m\n\u001b[0;32m     44\u001b[0m         \u001b[0mwrap\u001b[0m \u001b[1;33m=\u001b[0m \u001b[0mNone\u001b[0m\u001b[1;33m\u001b[0m\u001b[0m\n\u001b[1;32m---> 45\u001b[1;33m     \u001b[0mresult\u001b[0m \u001b[1;33m=\u001b[0m \u001b[0mgetattr\u001b[0m\u001b[1;33m(\u001b[0m\u001b[0masarray\u001b[0m\u001b[1;33m(\u001b[0m\u001b[0mobj\u001b[0m\u001b[1;33m)\u001b[0m\u001b[1;33m,\u001b[0m \u001b[0mmethod\u001b[0m\u001b[1;33m)\u001b[0m\u001b[1;33m(\u001b[0m\u001b[1;33m*\u001b[0m\u001b[0margs\u001b[0m\u001b[1;33m,\u001b[0m \u001b[1;33m**\u001b[0m\u001b[0mkwds\u001b[0m\u001b[1;33m)\u001b[0m\u001b[1;33m\u001b[0m\u001b[0m\n\u001b[0m\u001b[0;32m     46\u001b[0m     \u001b[1;32mif\u001b[0m \u001b[0mwrap\u001b[0m\u001b[1;33m:\u001b[0m\u001b[1;33m\u001b[0m\u001b[0m\n\u001b[0;32m     47\u001b[0m         \u001b[1;32mif\u001b[0m \u001b[1;32mnot\u001b[0m \u001b[0misinstance\u001b[0m\u001b[1;33m(\u001b[0m\u001b[0mresult\u001b[0m\u001b[1;33m,\u001b[0m \u001b[0mmu\u001b[0m\u001b[1;33m.\u001b[0m\u001b[0mndarray\u001b[0m\u001b[1;33m)\u001b[0m\u001b[1;33m:\u001b[0m\u001b[1;33m\u001b[0m\u001b[0m\n",
      "\u001b[1;31mAttributeError\u001b[0m: 'NoneType' object has no attribute 'rint'"
     ]
    }
   ],
   "source": [
    "for j in range(N):\n",
    "    print np.around(y[0][j].value)"
   ]
  },
  {
   "cell_type": "code",
   "execution_count": 57,
   "metadata": {
    "collapsed": false
   },
   "outputs": [
    {
     "name": "stdout",
     "output_type": "stream",
     "text": [
      "None\n",
      "None\n"
     ]
    }
   ],
   "source": [
    "print y[0][0].value\n",
    "print xi.value"
   ]
  },
  {
   "cell_type": "code",
   "execution_count": null,
   "metadata": {
    "collapsed": true
   },
   "outputs": [],
   "source": [
    "import "
   ]
  }
 ],
 "metadata": {
  "kernelspec": {
   "display_name": "Python 2",
   "language": "python",
   "name": "python2"
  },
  "language_info": {
   "codemirror_mode": {
    "name": "ipython",
    "version": 2
   },
   "file_extension": ".py",
   "mimetype": "text/x-python",
   "name": "python",
   "nbconvert_exporter": "python",
   "pygments_lexer": "ipython2",
   "version": "2.7.11"
  }
 },
 "nbformat": 4,
 "nbformat_minor": 0
}
