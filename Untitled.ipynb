{
 "cells": [
  {
   "cell_type": "code",
   "execution_count": 66,
   "metadata": {
    "collapsed": true
   },
   "outputs": [],
   "source": [
    "from generator import *\n",
    "import numpy as np"
   ]
  },
  {
   "cell_type": "code",
   "execution_count": 68,
   "metadata": {
    "collapsed": false
   },
   "outputs": [],
   "source": [
    "N = 10\n",
    "bandwidth, download_speed, upload_speed = generate_data(N)\n",
    "file_step = 1.0\n",
    "time_step = 1.0\n",
    "ft_bandwidth, ft_download_speed, ft_upload_speed = prepare_data(bandwidth, download_speed, upload_speed, file_step, time_step)"
   ]
  },
  {
   "cell_type": "code",
   "execution_count": 69,
   "metadata": {
    "collapsed": false
   },
   "outputs": [
    {
     "name": "stdout",
     "output_type": "stream",
     "text": [
      "[[ 0  5 21  2 22 16 89  4  2  2]\n",
      " [57  0 17  3 19 12 36  2  2  3]\n",
      " [21  1  0  1 39  7 21  1  1  1]\n",
      " [20  3 11  0 13  8 17  1  1  3]\n",
      " [22  2 39  1  0  6 19  1  1  1]\n",
      " [33  2 14  1 13  0 44  8  7  1]\n",
      " [89  3 21  1 19 22  0  9  2  1]\n",
      " [47  2 17  1 15 40 90  0  3  1]\n",
      " [23  2 12  1 11 35 27  3  0  1]\n",
      " [21  3 13  3 17  7 17  1  1  0]] [100  10 100  10 100  50 100  10  10  10] [100  10 100  10 100  50 100  10  10  10]\n"
     ]
    }
   ],
   "source": [
    "print ft_bandwidth, ft_download_speed, ft_upload_speed"
   ]
  },
  {
   "cell_type": "code",
   "execution_count": 70,
   "metadata": {
    "collapsed": false
   },
   "outputs": [
    {
     "name": "stdout",
     "output_type": "stream",
     "text": [
      "10 50.0 14\n"
     ]
    }
   ],
   "source": [
    "print np.min(ft_download_speed),\\\n",
    "np.sum(ft_upload_speed)* 1.0 / N, np.min(np.sum(ft_bandwidth, axis=0))"
   ]
  },
  {
   "cell_type": "markdown",
   "metadata": {},
   "source": [
    "CVXPY"
   ]
  },
  {
   "cell_type": "code",
   "execution_count": 5,
   "metadata": {
    "collapsed": false,
    "scrolled": true
   },
   "outputs": [
    {
     "ename": "NameError",
     "evalue": "name 'to_sum' is not defined",
     "output_type": "error",
     "traceback": [
      "\u001b[1;31m---------------------------------------------------------------------------\u001b[0m",
      "\u001b[1;31mNameError\u001b[0m                                 Traceback (most recent call last)",
      "\u001b[1;32m<ipython-input-5-327d3276981a>\u001b[0m in \u001b[0;36m<module>\u001b[1;34m()\u001b[0m\n\u001b[0;32m     41\u001b[0m     \u001b[1;32mfor\u001b[0m \u001b[0mk\u001b[0m \u001b[1;32min\u001b[0m \u001b[0mrange\u001b[0m\u001b[1;33m(\u001b[0m\u001b[0mK\u001b[0m\u001b[1;33m)\u001b[0m\u001b[1;33m:\u001b[0m\u001b[1;33m\u001b[0m\u001b[0m\n\u001b[0;32m     42\u001b[0m         \u001b[1;32mfor\u001b[0m \u001b[0mi\u001b[0m \u001b[1;32min\u001b[0m \u001b[0mrange\u001b[0m\u001b[1;33m(\u001b[0m\u001b[0mN\u001b[0m\u001b[1;33m)\u001b[0m\u001b[1;33m:\u001b[0m\u001b[1;33m\u001b[0m\u001b[0m\n\u001b[1;32m---> 43\u001b[1;33m             \u001b[0mto_sum\u001b[0m \u001b[1;33m+=\u001b[0m \u001b[0mcvxpy\u001b[0m\u001b[1;33m.\u001b[0m\u001b[0msum_entries\u001b[0m\u001b[1;33m(\u001b[0m\u001b[0my\u001b[0m\u001b[1;33m[\u001b[0m\u001b[0mi\u001b[0m\u001b[1;33m]\u001b[0m\u001b[1;33m[\u001b[0m\u001b[0mj\u001b[0m\u001b[1;33m]\u001b[0m\u001b[1;33m[\u001b[0m\u001b[0mk\u001b[0m\u001b[1;33m,\u001b[0m \u001b[1;33m:\u001b[0m\u001b[1;33m]\u001b[0m\u001b[1;33m)\u001b[0m\u001b[1;33m\u001b[0m\u001b[0m\n\u001b[0m\u001b[0;32m     44\u001b[0m         \u001b[0mconstraints\u001b[0m\u001b[1;33m.\u001b[0m\u001b[0mappend\u001b[0m\u001b[1;33m(\u001b[0m\u001b[0mto_sum\u001b[0m \u001b[1;33m==\u001b[0m \u001b[1;36m1\u001b[0m\u001b[1;33m)\u001b[0m\u001b[1;33m\u001b[0m\u001b[0m\n\u001b[0;32m     45\u001b[0m \u001b[1;33m\u001b[0m\u001b[0m\n",
      "\u001b[1;31mNameError\u001b[0m: name 'to_sum' is not defined"
     ]
    }
   ],
   "source": [
    "import cvxpy\n",
    "\n",
    "T = 10\n",
    "K = 10\n",
    "x = list()\n",
    "y = list()\n",
    "xi = cvxpy.Variable()\n",
    "for i in range(N):\n",
    "    x.append(cvxpy.Bool(K, T))\n",
    "    y.append(list())\n",
    "    for j in range(N):\n",
    "        y[i].append(cvxpy.Bool(K, T))\n",
    "\n",
    "constraints = []\n",
    "\"\"\"for i in range(N):\n",
    "    download = 0\n",
    "    upload = 0\n",
    "    constraints.append(-cvxpy.sum_entries(x[i]) <= xi)\n",
    "    for j in range(N):\n",
    "        constraints.append(cvxpy.sum_entries(y[i][j], axis=0) <= bandwidth[i, j])\n",
    "        download += cvxpy.sum_entries(y[j][i], axis=0)\n",
    "        upload += cvxpy.sum_entries(y[i][j], axis=0)\n",
    "        for k in range(K):\n",
    "            for t in range(1, T):\n",
    "                constraints.append(y[i][j][k, t-1] <= x[i][k, t])\n",
    "    constraints.append(download <= download_speed[i])\n",
    "    constraints.append(upload <= upload_speed[i])\n",
    "    for t in range(T):\n",
    "        for tp in range(t + 1, T):\n",
    "            for k in range(K):\n",
    "                constraints.append(x[i][k, tp] >= x[i][k, t])\n",
    "for t in range(T):\n",
    "    for k in range(K):\n",
    "        constraints.append(x[0][k, t] == 1)\n",
    "    for i in range(1, N):\n",
    "        for k in range(K):\n",
    "            constraints.append(x[i][k, 0] == 0)\n",
    "\"\"\"        \n",
    "\n",
    "for j in range(1, N):\n",
    "    for k in range(K):\n",
    "        for i in range(N):\n",
    "            to_sum += cvxpy.sum_entries(y[i][j][k, :])\n",
    "        constraints.append(to_sum == 1)\n",
    "\n",
    "\n",
    "#constraints.append(y[0][4][0, 0] == 1.0)\n",
    "#constraints.append(cvxpy.sum_entries(y[1][1][0, :]) == 1.0)\n",
    "\n",
    "print len(constraints)\n",
    "\n",
    "prob = cvxpy.Problem(cvxpy.Minimize(xi), constraints)\n",
    "\n",
    "prob.solve()"
   ]
  },
  {
   "cell_type": "code",
   "execution_count": 15,
   "metadata": {
    "collapsed": false,
    "scrolled": false
   },
   "outputs": [
    {
     "name": "stdout",
     "output_type": "stream",
     "text": [
      "\n",
      "x"
     ]
    },
    {
     "ename": "AttributeError",
     "evalue": "'NoneType' object has no attribute 'rint'",
     "output_type": "error",
     "traceback": [
      "\u001b[1;31m---------------------------------------------------------------------------\u001b[0m",
      "\u001b[1;31mAttributeError\u001b[0m                            Traceback (most recent call last)",
      "\u001b[1;32m<ipython-input-15-d2282463311f>\u001b[0m in \u001b[0;36m<module>\u001b[1;34m()\u001b[0m\n\u001b[0;32m      1\u001b[0m \u001b[1;32mimport\u001b[0m \u001b[0mnumpy\u001b[0m \u001b[1;32mas\u001b[0m \u001b[0mnp\u001b[0m\u001b[1;33m\u001b[0m\u001b[0m\n\u001b[0;32m      2\u001b[0m \u001b[1;32mfor\u001b[0m \u001b[0mi\u001b[0m \u001b[1;32min\u001b[0m \u001b[0mrange\u001b[0m\u001b[1;33m(\u001b[0m\u001b[0mN\u001b[0m\u001b[1;33m)\u001b[0m\u001b[1;33m:\u001b[0m\u001b[1;33m\u001b[0m\u001b[0m\n\u001b[1;32m----> 3\u001b[1;33m     \u001b[1;32mprint\u001b[0m \u001b[1;34m'\\nx'\u001b[0m\u001b[1;33m,\u001b[0m \u001b[0mnp\u001b[0m\u001b[1;33m.\u001b[0m\u001b[0maround\u001b[0m\u001b[1;33m(\u001b[0m\u001b[0mx\u001b[0m\u001b[1;33m[\u001b[0m\u001b[0mi\u001b[0m\u001b[1;33m]\u001b[0m\u001b[1;33m.\u001b[0m\u001b[0mvalue\u001b[0m\u001b[1;33m)\u001b[0m\u001b[1;33m,\u001b[0m \u001b[1;34m'\\n'\u001b[0m\u001b[1;33m\u001b[0m\u001b[0m\n\u001b[0m\u001b[0;32m      4\u001b[0m     \u001b[1;32mfor\u001b[0m \u001b[0mj\u001b[0m \u001b[1;32min\u001b[0m \u001b[0mrange\u001b[0m\u001b[1;33m(\u001b[0m\u001b[0mN\u001b[0m\u001b[1;33m)\u001b[0m\u001b[1;33m:\u001b[0m\u001b[1;33m\u001b[0m\u001b[0m\n\u001b[0;32m      5\u001b[0m         \u001b[1;32mprint\u001b[0m \u001b[1;34m'y'\u001b[0m\u001b[1;33m,\u001b[0m \u001b[0mnp\u001b[0m\u001b[1;33m.\u001b[0m\u001b[0maround\u001b[0m\u001b[1;33m(\u001b[0m\u001b[0my\u001b[0m\u001b[1;33m[\u001b[0m\u001b[0mi\u001b[0m\u001b[1;33m]\u001b[0m\u001b[1;33m[\u001b[0m\u001b[0mj\u001b[0m\u001b[1;33m]\u001b[0m\u001b[1;33m.\u001b[0m\u001b[0mvalue\u001b[0m\u001b[1;33m)\u001b[0m\u001b[1;33m\u001b[0m\u001b[0m\n",
      "\u001b[1;32mC:\\Users\\rubik\\Anaconda\\lib\\site-packages\\numpy\\core\\fromnumeric.pyc\u001b[0m in \u001b[0;36maround\u001b[1;34m(a, decimals, out)\u001b[0m\n\u001b[0;32m   2627\u001b[0m         \u001b[0mround\u001b[0m \u001b[1;33m=\u001b[0m \u001b[0ma\u001b[0m\u001b[1;33m.\u001b[0m\u001b[0mround\u001b[0m\u001b[1;33m\u001b[0m\u001b[0m\n\u001b[0;32m   2628\u001b[0m     \u001b[1;32mexcept\u001b[0m \u001b[0mAttributeError\u001b[0m\u001b[1;33m:\u001b[0m\u001b[1;33m\u001b[0m\u001b[0m\n\u001b[1;32m-> 2629\u001b[1;33m         \u001b[1;32mreturn\u001b[0m \u001b[0m_wrapit\u001b[0m\u001b[1;33m(\u001b[0m\u001b[0ma\u001b[0m\u001b[1;33m,\u001b[0m \u001b[1;34m'round'\u001b[0m\u001b[1;33m,\u001b[0m \u001b[0mdecimals\u001b[0m\u001b[1;33m,\u001b[0m \u001b[0mout\u001b[0m\u001b[1;33m)\u001b[0m\u001b[1;33m\u001b[0m\u001b[0m\n\u001b[0m\u001b[0;32m   2630\u001b[0m     \u001b[1;32mreturn\u001b[0m \u001b[0mround\u001b[0m\u001b[1;33m(\u001b[0m\u001b[0mdecimals\u001b[0m\u001b[1;33m,\u001b[0m \u001b[0mout\u001b[0m\u001b[1;33m)\u001b[0m\u001b[1;33m\u001b[0m\u001b[0m\n\u001b[0;32m   2631\u001b[0m \u001b[1;33m\u001b[0m\u001b[0m\n",
      "\u001b[1;32mC:\\Users\\rubik\\Anaconda\\lib\\site-packages\\numpy\\core\\fromnumeric.pyc\u001b[0m in \u001b[0;36m_wrapit\u001b[1;34m(obj, method, *args, **kwds)\u001b[0m\n\u001b[0;32m     43\u001b[0m     \u001b[1;32mexcept\u001b[0m \u001b[0mAttributeError\u001b[0m\u001b[1;33m:\u001b[0m\u001b[1;33m\u001b[0m\u001b[0m\n\u001b[0;32m     44\u001b[0m         \u001b[0mwrap\u001b[0m \u001b[1;33m=\u001b[0m \u001b[0mNone\u001b[0m\u001b[1;33m\u001b[0m\u001b[0m\n\u001b[1;32m---> 45\u001b[1;33m     \u001b[0mresult\u001b[0m \u001b[1;33m=\u001b[0m \u001b[0mgetattr\u001b[0m\u001b[1;33m(\u001b[0m\u001b[0masarray\u001b[0m\u001b[1;33m(\u001b[0m\u001b[0mobj\u001b[0m\u001b[1;33m)\u001b[0m\u001b[1;33m,\u001b[0m \u001b[0mmethod\u001b[0m\u001b[1;33m)\u001b[0m\u001b[1;33m(\u001b[0m\u001b[1;33m*\u001b[0m\u001b[0margs\u001b[0m\u001b[1;33m,\u001b[0m \u001b[1;33m**\u001b[0m\u001b[0mkwds\u001b[0m\u001b[1;33m)\u001b[0m\u001b[1;33m\u001b[0m\u001b[0m\n\u001b[0m\u001b[0;32m     46\u001b[0m     \u001b[1;32mif\u001b[0m \u001b[0mwrap\u001b[0m\u001b[1;33m:\u001b[0m\u001b[1;33m\u001b[0m\u001b[0m\n\u001b[0;32m     47\u001b[0m         \u001b[1;32mif\u001b[0m \u001b[1;32mnot\u001b[0m \u001b[0misinstance\u001b[0m\u001b[1;33m(\u001b[0m\u001b[0mresult\u001b[0m\u001b[1;33m,\u001b[0m \u001b[0mmu\u001b[0m\u001b[1;33m.\u001b[0m\u001b[0mndarray\u001b[0m\u001b[1;33m)\u001b[0m\u001b[1;33m:\u001b[0m\u001b[1;33m\u001b[0m\u001b[0m\n",
      "\u001b[1;31mAttributeError\u001b[0m: 'NoneType' object has no attribute 'rint'"
     ]
    }
   ],
   "source": [
    "import numpy as np\n",
    "for i in range(N):\n",
    "    print '\\nx', np.around(x[i].value), '\\n'\n",
    "    for j in range(N):\n",
    "        print 'y', np.around(y[i][j].value)"
   ]
  },
  {
   "cell_type": "code",
   "execution_count": 21,
   "metadata": {
    "collapsed": false
   },
   "outputs": [
    {
     "ename": "NameError",
     "evalue": "name 'y' is not defined",
     "output_type": "error",
     "traceback": [
      "\u001b[1;31m---------------------------------------------------------------------------\u001b[0m",
      "\u001b[1;31mNameError\u001b[0m                                 Traceback (most recent call last)",
      "\u001b[1;32m<ipython-input-21-e3a7d37def16>\u001b[0m in \u001b[0;36m<module>\u001b[1;34m()\u001b[0m\n\u001b[0;32m      1\u001b[0m \u001b[1;32mfor\u001b[0m \u001b[0mj\u001b[0m \u001b[1;32min\u001b[0m \u001b[0mrange\u001b[0m\u001b[1;33m(\u001b[0m\u001b[0mN\u001b[0m\u001b[1;33m)\u001b[0m\u001b[1;33m:\u001b[0m\u001b[1;33m\u001b[0m\u001b[0m\n\u001b[1;32m----> 2\u001b[1;33m     \u001b[1;32mprint\u001b[0m \u001b[0mnp\u001b[0m\u001b[1;33m.\u001b[0m\u001b[0maround\u001b[0m\u001b[1;33m(\u001b[0m\u001b[0my\u001b[0m\u001b[1;33m[\u001b[0m\u001b[1;36m0\u001b[0m\u001b[1;33m]\u001b[0m\u001b[1;33m[\u001b[0m\u001b[0mj\u001b[0m\u001b[1;33m]\u001b[0m\u001b[1;33m.\u001b[0m\u001b[0mvalue\u001b[0m\u001b[1;33m)\u001b[0m\u001b[1;33m\u001b[0m\u001b[0m\n\u001b[0m",
      "\u001b[1;31mNameError\u001b[0m: name 'y' is not defined"
     ]
    }
   ],
   "source": [
    "for j in range(N):\n",
    "    print np.around(y[0][j].value)"
   ]
  },
  {
   "cell_type": "code",
   "execution_count": 7,
   "metadata": {
    "collapsed": false
   },
   "outputs": [
    {
     "name": "stdout",
     "output_type": "stream",
     "text": [
      "[[ -1.98527791e-11  -1.98527791e-11  -1.98527791e-11  -1.98527791e-11\n",
      "   -1.98527791e-11]\n",
      " [ -1.98527791e-11  -1.98527791e-11  -1.98527791e-11  -1.98527791e-11\n",
      "   -1.98527791e-11]]\n",
      "-9.99999999944\n"
     ]
    }
   ],
   "source": [
    "print y[0][0].value\n",
    "print xi.value"
   ]
  },
  {
   "cell_type": "markdown",
   "metadata": {},
   "source": [
    "SImplex"
   ]
  },
  {
   "cell_type": "code",
   "execution_count": 71,
   "metadata": {
    "collapsed": true
   },
   "outputs": [],
   "source": [
    "import scipy\n",
    "\n",
    "T = 10\n",
    "K = 10"
   ]
  },
  {
   "cell_type": "code",
   "execution_count": 72,
   "metadata": {
    "collapsed": false
   },
   "outputs": [],
   "source": [
    "def solve(add_equations=[]):\n",
    "    dimension = N**2 * K * (T - 1) + N * K * T + 1\n",
    "    height_ineq = N**2 * (T-1) + N * (T-1) + N * (T-1) + N*K *(T*(T+1) / 2) + N**2 * K * (T-1) + N\\\n",
    "    + 2*N**2 *K*(T-1) + 2*N*K*T + N**2*K*(T-1)\n",
    "    height_eq = N * K + N * K + N*K*(T-1) + len(add_equations)\n",
    "    #print dimension, height_ineq, height_eq\n",
    "\n",
    "    A_ineq = np.zeros((height_ineq, dimension))\n",
    "    A_eq = np.zeros((height_eq, dimension))\n",
    "    b_ineq = np.zeros(height_ineq)\n",
    "    b_eq = np.zeros(height_eq)\n",
    "\n",
    "    pos = 0\n",
    "\n",
    "    #bandwidth\n",
    "    for i in range(N):\n",
    "        for j in range(N):\n",
    "            for t in range(T-1):\n",
    "                for k in range(K):\n",
    "                    A_ineq[pos, i + N*j + N**2 * k  + N**2 * K *t] = 1\n",
    "                    b_ineq[i + N*j + N**2 * k  + N**2 * K *t] = ft_bandwidth[i, j]\n",
    "                pos += 1\n",
    "\n",
    "    #download            \n",
    "    for j in range(N):\n",
    "        for t in range(T-1):\n",
    "            for i in range(N):\n",
    "                for k in range(K):\n",
    "                    A_ineq[pos, i + N*j + N**2 * k  + N**2 * K *t] = 1\n",
    "                    b_ineq[pos] = ft_download_speed[j]\n",
    "            pos += 1\n",
    "\n",
    "    #upload\n",
    "    for i in range(N):\n",
    "        for t in range(T-1):\n",
    "            for j in range(N):\n",
    "                for k in range(K):\n",
    "                    A_ineq[pos, i + N*j + N**2 * k  + N**2 * K *t] = 1\n",
    "                    b_ineq[pos] = ft_upload_speed[i]\n",
    "            pos += 1\n",
    "\n",
    "    for i in range(N):\n",
    "        for t in range(T):\n",
    "            for k in range(K):\n",
    "                for tp in range(t, T):\n",
    "                    A_ineq[pos, N**2 * K *(T-1) + i + k*N + t*N*K] = 1\n",
    "                    A_ineq[pos, N**2 * K *(T-1) + i + k*N + tp*N*K] = -1\n",
    "                    b_ineq[pos] = 0\n",
    "                    pos += 1\n",
    "\n",
    "    for i in range(N):\n",
    "        for k in range(K):\n",
    "            for t in range(T):\n",
    "                A_ineq[pos, N**2 * K *(T-1) + i + k*N + t*N*K] = -1\n",
    "                b_ineq[pos] = 0\n",
    "                pos += 1\n",
    "                A_ineq[pos, N**2 * K *(T-1) + i + k*N + t*N*K] = 1\n",
    "                b_ineq[pos] = 1\n",
    "                pos += 1\n",
    "                for j in range(N):\n",
    "                    if (t<T-1):\n",
    "                        A_ineq[pos, N**2 * K *(T-1) + i + k*N + t*N*K] = -1\n",
    "                        A_ineq[pos, i + N*j + N**2 * k  + N**2 * K *t] = 1\n",
    "                        b_ineq[pos] = 0\n",
    "                        pos += 1\n",
    "                        A_ineq[pos, i + N*j + N**2 * k  + N**2 * K *t] = 1\n",
    "                        b_ineq[pos] = 1\n",
    "                        pos += 1\n",
    "                        A_ineq[pos, i + N*j + N**2 * k  + N**2 * K *t] = -1\n",
    "                        b_ineq[pos] = 0\n",
    "                        pos += 1\n",
    "\n",
    "    for i in range(N):\n",
    "        for k in range(K):\n",
    "            for t in range(T):\n",
    "                A_ineq[pos, N**2 * K *(T-1) + i + k*N + t*N*K] = -(t+1)**4\n",
    "        A_ineq[pos, T*N*K] = -1\n",
    "        b_ineq[pos] = 0\n",
    "        pos += 1\n",
    "\n",
    "    for i in range(N):\n",
    "        for j in range(N):\n",
    "            for k in range(K):\n",
    "                for t in range(T-1):\n",
    "                    A_ineq[pos, i + j*N + k*N**2 + t*N**2*K] = 1\n",
    "                    A_ineq[pos, j + k*N + (t+1)*K*N + (T-1)*N**2*K] = -1\n",
    "                    b_ineq[pos] = 0\n",
    "                    pos += 1\n",
    "\n",
    "    c = np.zeros(N**2 *K*(T-1) + N*K*T +1)\n",
    "    c[-1] = 1\n",
    "\n",
    "    print pos, height_ineq\n",
    "\n",
    "    pos = 0\n",
    "\n",
    "    for k in range(K):\n",
    "        for j in range(N):\n",
    "            for t in range(T-1):\n",
    "                for i in range(N):\n",
    "                    A_eq[pos, i + N*j + N**2 * k  + N**2 * K *t] = 1\n",
    "            b_eq[pos] = 1\n",
    "            pos += 1\n",
    "\n",
    "    for k in range(K):\n",
    "        A_eq[pos, N**2 * K * (T-1) + 0 + N*k] = 1\n",
    "        b_eq[pos] = 1\n",
    "        pos += 1\n",
    "        for j in range(1, N):\n",
    "            A_eq[pos, N**2 * K * (T-1) + j + 0 + N*k] = 1\n",
    "            b_eq[pos] = 0\n",
    "            pos += 1\n",
    "\n",
    "    for k in range(K):\n",
    "        for j in range(N):\n",
    "            for t in range(T-1):\n",
    "                A_eq[pos, j + N*j + N**2 * k  + N**2 * K *t] = 1\n",
    "                b_eq[pos] = 0\n",
    "                pos += 1\n",
    "    \n",
    "    for item in add_equations:\n",
    "        A_eq[pos, item[0]] = 1\n",
    "        b_eq[pos] = item[1]\n",
    "        pos += 1\n",
    "\n",
    "    print pos, height_eq\n",
    "    from scipy import optimize\n",
    "    res = scipy.optimize.linprog(c, A_ub=A_ineq, b_ub=b_ineq, A_eq=A_eq, b_eq=b_eq)\n",
    "    return res.x, res.fun\n",
    "    "
   ]
  },
  {
   "cell_type": "code",
   "execution_count": 112,
   "metadata": {
    "collapsed": false
   },
   "outputs": [
    {
     "name": "stdout",
     "output_type": "stream",
     "text": [
      "(4596L, 1051L)\n"
     ]
    }
   ],
   "source": [
    "print A_ineq.shape"
   ]
  },
  {
   "cell_type": "code",
   "execution_count": null,
   "metadata": {
    "collapsed": false
   },
   "outputs": [],
   "source": [
    "from scipy import optimize\n",
    "res = solve()"
   ]
  },
  {
   "cell_type": "code",
   "execution_count": 53,
   "metadata": {
    "collapsed": false,
    "scrolled": true
   },
   "outputs": [
    {
     "name": "stdout",
     "output_type": "stream",
     "text": [
      "(array([ 0. ,  0. ,  0. ,  1. ,  0. ,  0. ,  0. ,  0. ,  0. ,  0. ,  0. ,\n",
      "        0. ,  1. ,  0. ,  0. ,  0. ,  0. ,  0. ,  0. ,  1. ,  0. ,  0. ,\n",
      "        0. ,  0. ,  0.5,  0.5,  0. ,  0. ,  1. ,  0. ,  0. ,  0. ,  0. ,\n",
      "        0.5,  0.5,  0. ,  0. ,  0. ,  0. ,  0. ,  0. ,  0. ,  0. ,  0. ,\n",
      "        0. ,  0. ,  0. ,  0. ,  0. ,  0. ,  0. ,  0. ,  0. ,  0. ,  1. ,\n",
      "        0. ,  0. ,  1. ,  0. ,  0. ,  1. ,  1. ,  0. ,  1. ,  1. ,  0. ,\n",
      "        1. ,  1. ,  0.5,  1. ,  1. ,  0.5,  1. ,  1. ,  0.5,  1. ,  1. ,\n",
      "        0.5,  0. ]), -0.0)\n"
     ]
    }
   ],
   "source": [
    "print res"
   ]
  },
  {
   "cell_type": "code",
   "execution_count": 59,
   "metadata": {
    "collapsed": false
   },
   "outputs": [],
   "source": [
    "x, y = res_to_xy(res[0])"
   ]
  },
  {
   "cell_type": "code",
   "execution_count": 60,
   "metadata": {
    "collapsed": false
   },
   "outputs": [
    {
     "name": "stdout",
     "output_type": "stream",
     "text": [
      "[[[ 1.   1.   1.   0. ]\n",
      "  [ 1.   1.   1.   0. ]]\n",
      "\n",
      " [[ 0.   1.   1.   0. ]\n",
      "  [ 0.   1.   1.   0. ]]\n",
      "\n",
      " [[ 0.   0.   0.5  0. ]\n",
      "  [ 0.   0.   0.5  0. ]]]\n"
     ]
    }
   ],
   "source": [
    "print x"
   ]
  },
  {
   "cell_type": "code",
   "execution_count": 61,
   "metadata": {
    "collapsed": false
   },
   "outputs": [
    {
     "name": "stdout",
     "output_type": "stream",
     "text": [
      "[[[[ 0.   0.   0. ]\n",
      "   [ 0.   0.   0. ]]\n",
      "\n",
      "  [[ 1.   0.   0. ]\n",
      "   [ 1.   0.   0. ]]\n",
      "\n",
      "  [[ 0.   0.5  0. ]\n",
      "   [ 0.   0.5  0. ]]]\n",
      "\n",
      "\n",
      " [[[ 0.   1.   0. ]\n",
      "   [ 0.   1.   0. ]]\n",
      "\n",
      "  [[ 0.   0.   0. ]\n",
      "   [ 0.   0.   0. ]]\n",
      "\n",
      "  [[ 0.   0.5  0. ]\n",
      "   [ 0.   0.5  0. ]]]\n",
      "\n",
      "\n",
      " [[[ 0.   0.   0. ]\n",
      "   [ 0.   0.   0. ]]\n",
      "\n",
      "  [[ 0.   0.   0. ]\n",
      "   [ 0.   0.   0. ]]\n",
      "\n",
      "  [[ 0.   0.   0. ]\n",
      "   [ 0.   0.   0. ]]]]\n"
     ]
    }
   ],
   "source": [
    "print y"
   ]
  },
  {
   "cell_type": "code",
   "execution_count": 59,
   "metadata": {
    "collapsed": false
   },
   "outputs": [
    {
     "name": "stdout",
     "output_type": "stream",
     "text": [
      " [[ 0  2  1  2  2 90]\n",
      " [25  0  1  4  1 20]\n",
      " [16  1  0  1  3 17]\n",
      " [22  4  1  0  1 18]\n",
      " [21  1  3  1  0 25]\n",
      " [90  2  1  1  2  0]] [100  10  10  10  10 100]\n"
     ]
    }
   ],
   "source": [
    "print ft_bandwidth, ft_upload_speed"
   ]
  },
  {
   "cell_type": "code",
   "execution_count": 115,
   "metadata": {
    "collapsed": true
   },
   "outputs": [],
   "source": [
    "res.x = np.around(res.x, 2)"
   ]
  },
  {
   "cell_type": "code",
   "execution_count": 58,
   "metadata": {
    "collapsed": false
   },
   "outputs": [],
   "source": [
    "def res_to_xy(res):\n",
    "    x = np.zeros((N, K, T))\n",
    "    y = np.zeros((N, N, K, T-1))\n",
    "\n",
    "    for k in range(K):\n",
    "        for i in range(N):\n",
    "            for t in range(T-1):\n",
    "                x[i, k, t] = res[N**2 * K *(T-1) + i + k*N + t*N*K]\n",
    "                for j in range(N):\n",
    "                    y[i, j, k, t] = res[i + N*j + N**2 * k  + N**2 * K *t]\n",
    "    return x, y"
   ]
  },
  {
   "cell_type": "code",
   "execution_count": 63,
   "metadata": {
    "collapsed": false
   },
   "outputs": [
    {
     "name": "stdout",
     "output_type": "stream",
     "text": [
      "79\n",
      "372 372\n",
      "30 30\n",
      "372 372\n",
      "31 31\n",
      "372 372\n",
      "31 31\n",
      "372 372\n",
      "32 32\n",
      "372 372\n",
      "32 32\n",
      "372 372\n",
      "33 33\n",
      "372 372\n",
      "33 33\n",
      "372 372\n",
      "34 34\n",
      "372 372\n",
      "34 34\n",
      "integer solution -0.0\n"
     ]
    }
   ],
   "source": [
    "def dfs_search(item):\n",
    "    i = 0\n",
    "    while i < F and item[1][i] == np.around(item[1][i]):\n",
    "        i += 1\n",
    "    if i == F:\n",
    "        if globals()['dfs_incumbient_value'] > item[-1]:\n",
    "            globals()['dfs_incumbient_value'] = item[-1]\n",
    "            globals()['dfs_incumbient'] = item[-2]\n",
    "        print 'integer solution', item[-1]\n",
    "        return\n",
    "    else:\n",
    "        new_constraint1 = item[0] + [[i, 0]]\n",
    "        new_constraint2 = item[0] + [[i, 1]]\n",
    "                                     \n",
    "        new_result1 = solve(new_constraint1)\n",
    "        new_result2 = solve(new_constraint2)\n",
    "        if new_result1[-1] < globals()['dfs_incumbient_value']:\n",
    "            dfs_search([new_constraint1, new_result1[0], new_result1[-1]])\n",
    "        if new_result2[-1] < globals()['dfs_incumbient_value']:\n",
    "            dfs_search([new_constraint2, new_result2[0], new_result2[-1]])  \n",
    "            \n",
    "            \n",
    "F = N**2 * K * (T-1) + N * K * T + 1\n",
    "print F\n",
    "dfs_initial = solve()\n",
    "dfs_incumbient_value = dfs_initial[-1]\n",
    "dfs_incumbient = dfs_initial[0]\n",
    "#constraints, x and y, value of task\n",
    "item = [[], dfs_incumbient, dfs_incumbient_value]\n",
    "dfs_incumbient_value = 1000000\n",
    "dfs_search(item)"
   ]
  },
  {
   "cell_type": "code",
   "execution_count": 64,
   "metadata": {
    "collapsed": false
   },
   "outputs": [
    {
     "name": "stdout",
     "output_type": "stream",
     "text": [
      "[ 0.  0.  0.  1.  0.  0.  0.  0.  0.  0.  0.  0.  1.  0.  0.  0.  0.  0.\n",
      "  0.  1.  0.  0.  0.  0.  0.  1.  0.  0.  1.  0.  0.  0.  0.  0.  1.  0.\n",
      "  0.  0.  0.  0.  0.  0.  0.  0.  0.  0.  0.  0.  0.  0.  0.  0.  0.  0.\n",
      "  1.  0.  0.  1.  0.  0.  1.  1.  0.  1.  1.  0.  1.  1.  1.  1.  1.  1.\n",
      "  1.  1.  1.  1.  1.  1.  0.]\n"
     ]
    }
   ],
   "source": [
    "print dfs_incumbient"
   ]
  },
  {
   "cell_type": "code",
   "execution_count": 65,
   "metadata": {
    "collapsed": false,
    "scrolled": true
   },
   "outputs": [
    {
     "name": "stdout",
     "output_type": "stream",
     "text": [
      "[[[ 1.  1.  1.  0.]\n",
      "  [ 1.  1.  1.  0.]]\n",
      "\n",
      " [[ 0.  1.  1.  0.]\n",
      "  [ 0.  1.  1.  0.]]\n",
      "\n",
      " [[ 0.  0.  1.  0.]\n",
      "  [ 0.  0.  1.  0.]]]\n",
      "[[[[ 0.  0.  0.]\n",
      "   [ 0.  0.  0.]]\n",
      "\n",
      "  [[ 1.  0.  0.]\n",
      "   [ 1.  0.  0.]]\n",
      "\n",
      "  [[ 0.  0.  0.]\n",
      "   [ 0.  0.  0.]]]\n",
      "\n",
      "\n",
      " [[[ 0.  1.  0.]\n",
      "   [ 0.  1.  0.]]\n",
      "\n",
      "  [[ 0.  0.  0.]\n",
      "   [ 0.  0.  0.]]\n",
      "\n",
      "  [[ 0.  1.  0.]\n",
      "   [ 0.  1.  0.]]]\n",
      "\n",
      "\n",
      " [[[ 0.  0.  0.]\n",
      "   [ 0.  0.  0.]]\n",
      "\n",
      "  [[ 0.  0.  0.]\n",
      "   [ 0.  0.  0.]]\n",
      "\n",
      "  [[ 0.  0.  0.]\n",
      "   [ 0.  0.  0.]]]]\n"
     ]
    }
   ],
   "source": [
    "x, y = res_to_xy(dfs_incumbient)\n",
    "print x\n",
    "print y"
   ]
  },
  {
   "cell_type": "code",
   "execution_count": null,
   "metadata": {
    "collapsed": true
   },
   "outputs": [],
   "source": [
    "print d_order\n",
    "print \"K=\",K\n",
    "print x\n",
    "plt.pcolor(x)\n",
    "print \"End time = \",Tend\n",
    "path = str(Tend)+\".png\"\n",
    "plt.savefig(path)"
   ]
  }
 ],
 "metadata": {
  "kernelspec": {
   "display_name": "Python 2",
   "language": "python",
   "name": "python2"
  },
  "language_info": {
   "codemirror_mode": {
    "name": "ipython",
    "version": 2
   },
   "file_extension": ".py",
   "mimetype": "text/x-python",
   "name": "python",
   "nbconvert_exporter": "python",
   "pygments_lexer": "ipython2",
   "version": "2.7.11"
  }
 },
 "nbformat": 4,
 "nbformat_minor": 0
}
